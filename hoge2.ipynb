{
 "cells": [
  {
   "cell_type": "code",
   "execution_count": 1,
   "metadata": {},
   "outputs": [],
   "source": [
    "text_en = \"I am not capable of browsing the internet, so my knowledge is limited to what I was trained on. My training data includes a wide range of written text, so I can assist with many topics. Please let me know if you have any questions.\"\n",
    "text_ja = \"私が好きな人はあなたではありません\""
   ]
  },
  {
   "cell_type": "code",
   "execution_count": 2,
   "metadata": {},
   "outputs": [],
   "source": [
    "from modules.manage_dataset import manage_dataset"
   ]
  },
  {
   "cell_type": "code",
   "execution_count": 3,
   "metadata": {},
   "outputs": [],
   "source": [
    "from gensim.models import Doc2Vec"
   ]
  },
  {
   "cell_type": "code",
   "execution_count": null,
   "metadata": {},
   "outputs": [],
   "source": []
  },
  {
   "cell_type": "code",
   "execution_count": 4,
   "metadata": {},
   "outputs": [],
   "source": [
    "model = Doc2Vec.load('test_en.model')"
   ]
  },
  {
   "cell_type": "code",
   "execution_count": 10,
   "metadata": {},
   "outputs": [
    {
     "data": {
      "text/plain": [
       "array([-0.00787459, -0.0092044 ,  0.00841427, -0.00434007,  0.00969593,\n",
       "       -0.00266102,  0.00961159, -0.00598009,  0.00333964,  0.00442087,\n",
       "       -0.00867784,  0.00521352, -0.00659515, -0.00371493,  0.0045603 ,\n",
       "        0.00951243, -0.00281492, -0.00306972,  0.00025224, -0.00057679,\n",
       "       -0.00973962, -0.00789891,  0.00577251,  0.00717766, -0.00465241,\n",
       "        0.00328976, -0.00124934,  0.00349975, -0.00621208,  0.00287289,\n",
       "       -0.00492267, -0.00658535,  0.00852059, -0.00784734, -0.00298121,\n",
       "        0.00439509, -0.00839853, -0.00475596,  0.00085169, -0.00584788,\n",
       "        0.00885934,  0.00900852,  0.00742555,  0.00282785, -0.00500899,\n",
       "       -0.00049315, -0.00199801,  0.00616147, -0.00696288, -0.00869086,\n",
       "       -0.00968307, -0.00801429, -0.00643046, -0.00230998, -0.00234809,\n",
       "        0.00628516,  0.00451546,  0.00519269,  0.00262865,  0.00203401,\n",
       "        0.00457961,  0.00876522,  0.00532968,  0.00204531, -0.00206967,\n",
       "        0.00519291,  0.00724124,  0.00923416,  0.00651259,  0.00464844,\n",
       "       -0.00993031,  0.00346225, -0.00196694,  0.00385601,  0.00637273,\n",
       "       -0.00228403, -0.00873748, -0.00233694, -0.00508541, -0.00371149,\n",
       "       -0.00558267,  0.00514754,  0.00069844,  0.00019105, -0.0047725 ,\n",
       "        0.0096689 ,  0.0005931 , -0.00251935, -0.00922126,  0.00284455,\n",
       "       -0.00758352, -0.00465151, -0.00907882,  0.00128423,  0.00834525,\n",
       "        0.00588766, -0.00316223, -0.00115433,  0.00969793, -0.00679331],\n",
       "      dtype=float32)"
      ]
     },
     "execution_count": 10,
     "metadata": {},
     "output_type": "execute_result"
    }
   ],
   "source": [
    "model[2]"
   ]
  },
  {
   "cell_type": "code",
   "execution_count": 12,
   "metadata": {},
   "outputs": [
    {
     "data": {
      "text/plain": [
       "[(1, 0.1626252382993698), (2, -9.822627907851711e-05)]"
      ]
     },
     "execution_count": 12,
     "metadata": {},
     "output_type": "execute_result"
    }
   ],
   "source": [
    "model.dv.most_similar(0)"
   ]
  },
  {
   "cell_type": "code",
   "execution_count": 13,
   "metadata": {},
   "outputs": [],
   "source": [
    "import joblib"
   ]
  },
  {
   "cell_type": "code",
   "execution_count": 14,
   "metadata": {},
   "outputs": [
    {
     "data": {
      "text/plain": [
       "[['the',\n",
       "  'quick',\n",
       "  'brown',\n",
       "  'fox',\n",
       "  'jump',\n",
       "  'lazi',\n",
       "  'dog',\n",
       "  'the',\n",
       "  'fox',\n",
       "  'agil',\n",
       "  'manag',\n",
       "  'avoid',\n",
       "  'dog',\n",
       "  'attempt',\n",
       "  'catch',\n",
       "  'the',\n",
       "  'fox',\n",
       "  'eventu',\n",
       "  'reach',\n",
       "  'side',\n",
       "  'field',\n",
       "  'disappear',\n",
       "  'forest'],\n",
       " ['i',\n",
       "  'larg',\n",
       "  'languag',\n",
       "  'model',\n",
       "  'train',\n",
       "  'openai',\n",
       "  'i',\n",
       "  'capabl',\n",
       "  'brows',\n",
       "  'internet',\n",
       "  'knowledg',\n",
       "  'limit',\n",
       "  'i',\n",
       "  'train',\n",
       "  'i',\n",
       "  'assist',\n",
       "  'mani',\n",
       "  'topic',\n",
       "  'i',\n",
       "  'perfect',\n",
       "  'may',\n",
       "  'alway',\n",
       "  'provid',\n",
       "  'correct',\n",
       "  'answer'],\n",
       " ['i',\n",
       "  'capabl',\n",
       "  'brows',\n",
       "  'internet',\n",
       "  'knowledg',\n",
       "  'limit',\n",
       "  'i',\n",
       "  'train',\n",
       "  'my',\n",
       "  'train',\n",
       "  'data',\n",
       "  'includ',\n",
       "  'wide',\n",
       "  'rang',\n",
       "  'written',\n",
       "  'text',\n",
       "  'i',\n",
       "  'assist',\n",
       "  'mani',\n",
       "  'topic',\n",
       "  'pleas',\n",
       "  'let',\n",
       "  'know',\n",
       "  'question']]"
      ]
     },
     "execution_count": 14,
     "metadata": {},
     "output_type": "execute_result"
    }
   ],
   "source": [
    "with open(\"./test_model.model\", \"rb\") as f:\n",
    "    list = joblib.load(f)\n",
    "list"
   ]
  },
  {
   "cell_type": "code",
   "execution_count": 15,
   "metadata": {},
   "outputs": [
    {
     "data": {
      "text/plain": [
       "[['the',\n",
       "  'quick',\n",
       "  'brown',\n",
       "  'fox',\n",
       "  'jump',\n",
       "  'lazi',\n",
       "  'dog',\n",
       "  'the',\n",
       "  'fox',\n",
       "  'agil',\n",
       "  'manag',\n",
       "  'avoid',\n",
       "  'dog',\n",
       "  'attempt',\n",
       "  'catch',\n",
       "  'the',\n",
       "  'fox',\n",
       "  'eventu',\n",
       "  'reach',\n",
       "  'side',\n",
       "  'field',\n",
       "  'disappear',\n",
       "  'forest'],\n",
       " ['i',\n",
       "  'larg',\n",
       "  'languag',\n",
       "  'model',\n",
       "  'train',\n",
       "  'openai',\n",
       "  'i',\n",
       "  'capabl',\n",
       "  'brows',\n",
       "  'internet',\n",
       "  'knowledg',\n",
       "  'limit',\n",
       "  'i',\n",
       "  'train',\n",
       "  'i',\n",
       "  'assist',\n",
       "  'mani',\n",
       "  'topic',\n",
       "  'i',\n",
       "  'perfect',\n",
       "  'may',\n",
       "  'alway',\n",
       "  'provid',\n",
       "  'correct',\n",
       "  'answer'],\n",
       " ['i',\n",
       "  'capabl',\n",
       "  'brows',\n",
       "  'internet',\n",
       "  'knowledg',\n",
       "  'limit',\n",
       "  'i',\n",
       "  'train',\n",
       "  'my',\n",
       "  'train',\n",
       "  'data',\n",
       "  'includ',\n",
       "  'wide',\n",
       "  'rang',\n",
       "  'written',\n",
       "  'text',\n",
       "  'i',\n",
       "  'assist',\n",
       "  'mani',\n",
       "  'topic',\n",
       "  'pleas',\n",
       "  'let',\n",
       "  'know',\n",
       "  'question']]"
      ]
     },
     "execution_count": 15,
     "metadata": {},
     "output_type": "execute_result"
    }
   ],
   "source": [
    "list"
   ]
  },
  {
   "cell_type": "code",
   "execution_count": 16,
   "metadata": {},
   "outputs": [
    {
     "data": {
      "text/plain": [
       "list"
      ]
     },
     "execution_count": 16,
     "metadata": {},
     "output_type": "execute_result"
    }
   ],
   "source": [
    "del list\n",
    "list"
   ]
  },
  {
   "cell_type": "code",
   "execution_count": 17,
   "metadata": {},
   "outputs": [
    {
     "data": {
      "text/plain": [
       "list"
      ]
     },
     "execution_count": 17,
     "metadata": {},
     "output_type": "execute_result"
    }
   ],
   "source": [
    "list"
   ]
  },
  {
   "cell_type": "code",
   "execution_count": 18,
   "metadata": {},
   "outputs": [],
   "source": [
    "import gc\n"
   ]
  },
  {
   "cell_type": "code",
   "execution_count": 19,
   "metadata": {},
   "outputs": [],
   "source": [
    "\n",
    "# コールバック関数を定義する\n",
    "def callback(phase, info):\n",
    "    print(phase, info)\n",
    "gc.callbacks.append(callback)\n"
   ]
  },
  {
   "cell_type": "code",
   "execution_count": 20,
   "metadata": {},
   "outputs": [],
   "source": [
    "\n",
    "gc.disable()\n",
    "gc.set_debug(gc.DEBUG_STATS)\n"
   ]
  },
  {
   "cell_type": "code",
   "execution_count": 21,
   "metadata": {},
   "outputs": [],
   "source": [
    "\n",
    "# 循環参照を作成する\n",
    "x = []\n",
    "x.append(x)\n",
    "del x\n"
   ]
  },
  {
   "cell_type": "code",
   "execution_count": 22,
   "metadata": {},
   "outputs": [
    {
     "name": "stdout",
     "output_type": "stream",
     "text": [
      "{'collections': 4, 'collected': 1263, 'uncollectable': 0}\n",
      "start {'generation': 2, 'collected': 0, 'uncollectable': 0}\n",
      "stop {'generation': 2, 'collected': 369, 'uncollectable': 0}\n",
      "{'collections': 5, 'collected': 1632, 'uncollectable': 0}\n"
     ]
    },
    {
     "name": "stderr",
     "output_type": "stream",
     "text": [
      "gc: collecting generation 2...\n",
      "gc: objects in each generation: 672 1222 242607\n",
      "gc: objects in permanent generation: 0\n",
      "gc: done, 369 unreachable, 0 uncollectable, 0.0752s elapsed\n"
     ]
    }
   ],
   "source": [
    "\n",
    "print(gc.get_stats()[2])\n",
    "gc.collect()\n",
    "print(gc.get_stats()[2])"
   ]
  },
  {
   "cell_type": "code",
   "execution_count": null,
   "metadata": {},
   "outputs": [],
   "source": []
  }
 ],
 "metadata": {
  "kernelspec": {
   "display_name": "Python 3.10.0 ('.venv': venv)",
   "language": "python",
   "name": "python3"
  },
  "language_info": {
   "codemirror_mode": {
    "name": "ipython",
    "version": 3
   },
   "file_extension": ".py",
   "mimetype": "text/x-python",
   "name": "python",
   "nbconvert_exporter": "python",
   "pygments_lexer": "ipython3",
   "version": "3.10.0"
  },
  "orig_nbformat": 4,
  "vscode": {
   "interpreter": {
    "hash": "bea2c59bde00311e234f08cbfb1f4117d72a9d91530dad6010c653ff458f54a3"
   }
  }
 },
 "nbformat": 4,
 "nbformat_minor": 2
}
