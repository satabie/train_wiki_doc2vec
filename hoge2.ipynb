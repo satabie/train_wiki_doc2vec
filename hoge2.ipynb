{
 "cells": [
  {
   "cell_type": "code",
   "execution_count": 61,
   "metadata": {},
   "outputs": [],
   "source": [
    "from gensim.models.doc2vec import TaggedDocument\n",
    "from gensim.utils import simple_preprocess as preprocess\n",
    "from gensim.models import Doc2Vec"
   ]
  },
  {
   "cell_type": "code",
   "execution_count": 65,
   "metadata": {},
   "outputs": [],
   "source": [
    "text = \"I am a large language model trained! by OpenAI. I can provide information and answer questions on a wide range of topics, but my training only goes up until December 2021, so I may not have information on events or developments that have occurred since then. My ability to browse the web is also limited, so I may not be able to provide specific information or details on a given topic. However, I will do my best to provide a helpful and accurate response based on the information and knowledge that I have. Please let me know if you have any questions or if there's anything else I can help with.\""
   ]
  },
  {
   "cell_type": "code",
   "execution_count": 66,
   "metadata": {},
   "outputs": [],
   "source": [
    "model = Doc2Vec.load(\"models/test_en.model\")"
   ]
  },
  {
   "cell_type": "code",
   "execution_count": 67,
   "metadata": {},
   "outputs": [
    {
     "data": {
      "text/plain": [
       "array([-0.18637212, -0.14499402, -0.17325838,  0.20298606,  0.11319821,\n",
       "       -0.11913648, -0.16468458, -0.06610158, -0.25695398,  0.02641774,\n",
       "        0.00536869,  0.04628369, -0.11010165, -0.06064567,  0.01687901,\n",
       "       -0.19071586,  0.04545256,  0.12312965, -0.21721601, -0.16070315,\n",
       "       -0.11879446,  0.09908293, -0.08361989,  0.08283249,  0.10655186,\n",
       "       -0.12616019, -0.21768816, -0.32232645,  0.06342234, -0.23554593,\n",
       "        0.1664259 ,  0.13384959, -0.0866916 , -0.16261189, -0.06122239,\n",
       "        0.18276754, -0.0801189 , -0.26648596, -0.08938613, -0.05689935,\n",
       "        0.00190094, -0.18946066,  0.10641597, -0.16444731,  0.07844681,\n",
       "       -0.15396811, -0.03943732, -0.03268526,  0.1290838 , -0.21960485,\n",
       "       -0.07393731, -0.07907506, -0.20049404, -0.15572993, -0.10188559,\n",
       "        0.26291296, -0.02617692,  0.06776533, -0.209475  ,  0.19906265,\n",
       "        0.09895181,  0.2731295 ,  0.11251184, -0.1232195 , -0.00493454,\n",
       "       -0.04008882,  0.16935389,  0.15379249, -0.09354132, -0.06494784,\n",
       "       -0.25222132,  0.01579414, -0.16297786, -0.20319133, -0.08100986,\n",
       "        0.09874471, -0.19402763, -0.25014955,  0.00125668,  0.06997267,\n",
       "        0.17572701,  0.09120692, -0.28153008,  0.02641355,  0.15189917,\n",
       "        0.12540257,  0.04075886, -0.01310073,  0.20774493,  0.05244399,\n",
       "       -0.16792093,  0.17560272, -0.2939574 , -0.14596802,  0.00166123,\n",
       "        0.35754365,  0.08017998, -0.1364388 ,  0.260316  , -0.0174898 ],\n",
       "      dtype=float32)"
      ]
     },
     "execution_count": 67,
     "metadata": {},
     "output_type": "execute_result"
    }
   ],
   "source": [
    "model.infer_vector(preprocess(text))"
   ]
  },
  {
   "cell_type": "code",
   "execution_count": 69,
   "metadata": {},
   "outputs": [],
   "source": [
    "settings = {\n",
    "        \"dbow300d\": {\"vector_size\": 300,\n",
    "                     \"epochs\": 20,\n",
    "                     \"window\": 15,\n",
    "                     \"workers\": 8},\n",
    "        \"dmpv300d\": {\"vector_size\": 300,\n",
    "                     \"epochs\": 20,\n",
    "                     \"window\": 10,\n",
    "                     \"workers\": 8\n",
    "                     }\n",
    "    }\n"
   ]
  },
  {
   "cell_type": "code",
   "execution_count": 82,
   "metadata": {},
   "outputs": [
    {
     "data": {
      "text/plain": [
       "20"
      ]
     },
     "execution_count": 82,
     "metadata": {},
     "output_type": "execute_result"
    }
   ],
   "source": [
    "settings[\"dbow300d\"][\"epochs\"]"
   ]
  },
  {
   "cell_type": "code",
   "execution_count": 77,
   "metadata": {},
   "outputs": [
    {
     "name": "stdout",
     "output_type": "stream",
     "text": [
      "dbow300d\n"
     ]
    },
    {
     "ename": "TypeError",
     "evalue": "print() takes at most 4 keyword arguments (7 given)",
     "output_type": "error",
     "traceback": [
      "\u001b[0;31m---------------------------------------------------------------------------\u001b[0m",
      "\u001b[0;31mTypeError\u001b[0m                                 Traceback (most recent call last)",
      "Cell \u001b[0;32mIn[77], line 3\u001b[0m\n\u001b[1;32m      1\u001b[0m \u001b[39mfor\u001b[39;00m setting_name, setting \u001b[39min\u001b[39;00m settings\u001b[39m.\u001b[39mitems():\n\u001b[1;32m      2\u001b[0m     \u001b[39mprint\u001b[39m(setting_name)\n\u001b[0;32m----> 3\u001b[0m     \u001b[39mprint\u001b[39;49m(\u001b[39m*\u001b[39;49m\u001b[39m*\u001b[39;49msetting)\n",
      "\u001b[0;31mTypeError\u001b[0m: print() takes at most 4 keyword arguments (7 given)"
     ]
    }
   ],
   "source": [
    "for setting_name, setting in settings.items():\n",
    "    print(setting_name)\n",
    "    print(**setting)\n"
   ]
  },
  {
   "cell_type": "code",
   "execution_count": null,
   "metadata": {},
   "outputs": [],
   "source": []
  }
 ],
 "metadata": {
  "kernelspec": {
   "display_name": "Python 3.10.0 ('.venv': venv)",
   "language": "python",
   "name": "python3"
  },
  "language_info": {
   "codemirror_mode": {
    "name": "ipython",
    "version": 3
   },
   "file_extension": ".py",
   "mimetype": "text/x-python",
   "name": "python",
   "nbconvert_exporter": "python",
   "pygments_lexer": "ipython3",
   "version": "3.10.0"
  },
  "orig_nbformat": 4,
  "vscode": {
   "interpreter": {
    "hash": "bea2c59bde00311e234f08cbfb1f4117d72a9d91530dad6010c653ff458f54a3"
   }
  }
 },
 "nbformat": 4,
 "nbformat_minor": 2
}
