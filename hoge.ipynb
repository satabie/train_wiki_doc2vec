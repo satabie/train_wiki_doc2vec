{
 "cells": [
  {
   "cell_type": "code",
   "execution_count": 2,
   "metadata": {},
   "outputs": [],
   "source": [
    "import re\n",
    "from gensim.models.doc2vec import Doc2Vec, TaggedDocument\n",
    "import string\n",
    "import unicodedata\n",
    "import MeCab"
   ]
  },
  {
   "cell_type": "code",
   "execution_count": 3,
   "metadata": {},
   "outputs": [],
   "source": [
    "text = 'Yahoo Japanなどを\\r運営するヤフーの親会社Zホールディングス（以下ZHD）とLINEは11月18日、経営統合することで基本合意したことを正式に発表した。\\n11月13日に日本経済新聞などが両社の合併を報じていた。'"
   ]
  },
  {
   "cell_type": "code",
   "execution_count": 47,
   "metadata": {},
   "outputs": [],
   "source": [
    "model = Doc2Vec.load('test.model')"
   ]
  },
  {
   "cell_type": "code",
   "execution_count": 48,
   "metadata": {},
   "outputs": [
    {
     "name": "stderr",
     "output_type": "stream",
     "text": [
      "/tmp/ipykernel_2562/2021273564.py:1: DeprecationWarning: Call to deprecated `docvecs` (The `docvecs` property has been renamed `dv`.).\n",
      "  model.docvecs[0]\n"
     ]
    },
    {
     "data": {
      "text/plain": [
       "array([-5.2308156e-03, -5.9791268e-03, -9.8807542e-03,  8.5528456e-03,\n",
       "        3.5661161e-03,  2.6303172e-04, -9.8806275e-03, -5.1666484e-03,\n",
       "       -9.7179627e-03,  2.0107795e-03,  2.8303110e-03,  4.6435557e-03,\n",
       "       -4.2972756e-03, -3.1457066e-03, -3.0787874e-03, -8.7219151e-03,\n",
       "        2.1724831e-03,  9.2256228e-03, -9.5018670e-03, -3.4580862e-03,\n",
       "       -3.7699090e-03,  2.6073826e-03, -5.6915567e-03,  2.6206803e-03,\n",
       "        5.8025215e-03, -8.1068603e-03, -8.3297910e-03, -9.9546695e-03,\n",
       "        4.9330448e-03, -9.1223074e-03,  5.8419635e-03,  6.8002627e-03,\n",
       "       -6.5064002e-03, -4.5198812e-03, -1.2548614e-03,  1.6463208e-03,\n",
       "       -1.4813376e-03, -8.5425414e-03, -3.6026132e-03,  1.7316258e-03,\n",
       "       -2.0569193e-03, -7.2300420e-03,  4.1846000e-03, -8.5743405e-03,\n",
       "        2.7115368e-03, -4.6137203e-03,  6.4542773e-04, -2.0573472e-03,\n",
       "        5.4132282e-03, -8.0025708e-03, -2.1198511e-03, -9.5815660e-05,\n",
       "       -6.6387774e-03, -6.5261638e-03, -1.9329584e-03,  8.8034747e-03,\n",
       "       -1.2631691e-03,  3.5359799e-03, -5.7503129e-03,  8.8148145e-03,\n",
       "        2.9154683e-03,  9.2796851e-03,  4.3498552e-03, -4.1995691e-03,\n",
       "        2.2419060e-03, -4.4124555e-03,  5.7769404e-03,  1.8315231e-03,\n",
       "       -2.2787608e-03, -5.8811186e-03, -8.0270842e-03, -8.5307239e-04,\n",
       "       -8.9393631e-03, -9.2236344e-03, -7.9399096e-03,  2.1690738e-03,\n",
       "       -6.5009403e-03, -7.7883434e-03,  2.1311676e-03,  2.0526624e-03,\n",
       "        8.3483569e-03,  4.6679149e-03, -9.4101038e-03, -3.3878087e-04,\n",
       "        7.8540277e-03,  2.6714755e-03,  2.6803636e-03, -4.8837112e-03,\n",
       "        6.4671705e-03,  1.6488147e-03, -7.6021445e-03,  6.8639722e-03,\n",
       "       -9.7693978e-03, -8.1585944e-03, -4.8741638e-03,  9.9376775e-03,\n",
       "        3.1130922e-03, -2.0120370e-03,  8.8951699e-03,  2.3512566e-03],\n",
       "      dtype=float32)"
      ]
     },
     "execution_count": 48,
     "metadata": {},
     "output_type": "execute_result"
    }
   ],
   "source": [
    "model.docvecs[0]"
   ]
  },
  {
   "cell_type": "code",
   "execution_count": null,
   "metadata": {},
   "outputs": [],
   "source": []
  }
 ],
 "metadata": {
  "kernelspec": {
   "display_name": "Python 3.10.0 ('.venv': venv)",
   "language": "python",
   "name": "python3"
  },
  "language_info": {
   "codemirror_mode": {
    "name": "ipython",
    "version": 3
   },
   "file_extension": ".py",
   "mimetype": "text/x-python",
   "name": "python",
   "nbconvert_exporter": "python",
   "pygments_lexer": "ipython3",
   "version": "3.10.0"
  },
  "orig_nbformat": 4,
  "vscode": {
   "interpreter": {
    "hash": "bea2c59bde00311e234f08cbfb1f4117d72a9d91530dad6010c653ff458f54a3"
   }
  }
 },
 "nbformat": 4,
 "nbformat_minor": 2
}
