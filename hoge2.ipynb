{
 "cells": [
  {
   "cell_type": "code",
   "execution_count": 6,
   "metadata": {},
   "outputs": [],
   "source": [
    "\n",
    "from modules.DatasetManager import DatasetManager\n",
    "from modules.dbManager import DBManager\n",
    "import gc\n",
    "import joblib\n",
    "\n",
    "DB_HOST = \"localhost\"\n",
    "DB_PORT = \"5432\"\n",
    "DB_USER = \"postgres\"\n",
    "DB_PASS = \"postgres\"\n",
    "DB_NAME = \"wikipedia_featured_articles\""
   ]
  },
  {
   "cell_type": "code",
   "execution_count": 7,
   "metadata": {},
   "outputs": [],
   "source": [
    "lang = 'en'"
   ]
  },
  {
   "cell_type": "code",
   "execution_count": 22,
   "metadata": {},
   "outputs": [],
   "source": [
    "\n",
    "db_manager = DBManager(DB_HOST, DB_PORT, DB_NAME, DB_USER, DB_PASS)\n",
    "table_names = db_manager.fetch_tablenames()\n",
    "text_list = []\n",
    "for table_taple in table_names:\n",
    "    table_name = table_taple[0]\n",
    "\n",
    "    if lang == 'en':\n",
    "        query = f\"SELECT en_text FROM {table_name} WHERE en_text != 'null'\" #変更点\n",
    "        text_taple = db_manager.select(query)\n",
    "    elif lang == 'ja':\n",
    "        query = f\"SELECT ja_text FROM {table_name} WHERE ja_text != 'null'\" #変更点\n",
    "        text_taple = db_manager.select(query)\n",
    "    \n",
    "    for text in text_taple:\n",
    "        text = text[0]\n",
    "        text_list.append(text)\n",
    "    \n",
    "\n"
   ]
  },
  {
   "cell_type": "code",
   "execution_count": 23,
   "metadata": {},
   "outputs": [
    {
     "data": {
      "text/plain": [
       "4382"
      ]
     },
     "execution_count": 23,
     "metadata": {},
     "output_type": "execute_result"
    }
   ],
   "source": [
    "len(text_list)"
   ]
  },
  {
   "cell_type": "code",
   "execution_count": null,
   "metadata": {},
   "outputs": [],
   "source": []
  }
 ],
 "metadata": {
  "kernelspec": {
   "display_name": "Python 3.10.0 ('.venv': venv)",
   "language": "python",
   "name": "python3"
  },
  "language_info": {
   "codemirror_mode": {
    "name": "ipython",
    "version": 3
   },
   "file_extension": ".py",
   "mimetype": "text/x-python",
   "name": "python",
   "nbconvert_exporter": "python",
   "pygments_lexer": "ipython3",
   "version": "3.10.0"
  },
  "orig_nbformat": 4,
  "vscode": {
   "interpreter": {
    "hash": "bea2c59bde00311e234f08cbfb1f4117d72a9d91530dad6010c653ff458f54a3"
   }
  }
 },
 "nbformat": 4,
 "nbformat_minor": 2
}
